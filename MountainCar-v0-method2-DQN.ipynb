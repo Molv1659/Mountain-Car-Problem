{
 "cells": [
  {
   "cell_type": "markdown",
   "metadata": {},
   "source": [
    "# import"
   ]
  },
  {
   "cell_type": "code",
   "execution_count": 10,
   "metadata": {},
   "outputs": [],
   "source": [
    "import gym\n",
    "import numpy as np\n",
    "import matplotlib.pyplot as plt\n",
    "import tensorflow as tf\n",
    "from tensorflow.keras import *\n",
    "from tensorflow.keras.layers import Dense\n",
    "import random\n",
    "from collections import deque\n",
    "env = gym.make(\"MountainCar-v0\")"
   ]
  },
  {
   "cell_type": "markdown",
   "metadata": {},
   "source": [
    "#  data"
   ]
  },
  {
   "cell_type": "code",
   "execution_count": 11,
   "metadata": {},
   "outputs": [],
   "source": [
    "memory_max = 50000\n",
    "memory_min = 1000\n",
    "batchsize = 64\n",
    "gama = 0.99\n",
    "episodes = 7000\n",
    "epsilon = 1\n",
    "epsilon_step = 0.003\n",
    "epsilon_min = 0.001\n",
    "\n",
    "ep_rewards = []\n",
    "\n",
    "update_timer = 5"
   ]
  },
  {
   "cell_type": "markdown",
   "metadata": {},
   "source": [
    "# simple net"
   ]
  },
  {
   "cell_type": "code",
   "execution_count": 12,
   "metadata": {},
   "outputs": [],
   "source": [
    "# 输入状态输出动作\n",
    "def simple_net():\n",
    "    model = Sequential([\n",
    "        Dense(16, input_shape=(env.observation_space.shape), activation='relu'),\n",
    "        Dense(16, activation='relu'),\n",
    "        Dense(env.action_space.n)\n",
    "    ])\n",
    "    model.compile(optimizer = 'adam',\n",
    "                  loss = 'mse',\n",
    "                  metrics = ['accuracy'])\n",
    "    return model\n"
   ]
  },
  {
   "cell_type": "markdown",
   "metadata": {},
   "source": [
    "# DQN"
   ]
  },
  {
   "cell_type": "code",
   "execution_count": 13,
   "metadata": {},
   "outputs": [],
   "source": [
    "class DQN:\n",
    "    \n",
    "    def __init__(self):\n",
    "        \n",
    "        self.memory = deque(maxlen = memory_max)\n",
    "        # part1\n",
    "        # prediction_model和s得到Q表\n",
    "        # part2\n",
    "        # target_model和s'得到Q'表，求出最大的Q_max\n",
    "        # 用Q_max让神经网络学习,更新prediction_model\n",
    "        # part3\n",
    "        # 隔一定的轮次后把prediction_model的参数赋给target_model\n",
    "        self.prediction_model = simple_net()\n",
    "        self.target_model = simple_net()\n",
    "        self.target_model.set_weights(self.prediction_model.get_weights())\n",
    "        \n",
    "        self.timer = 0\n",
    "        \n",
    "    def get_from_QTable(self, state):\n",
    "        temp = np.array(state)\n",
    "        temp = temp.reshape(-1, *state.shape)\n",
    "        return self.prediction_model.predict(temp)[0]\n",
    "        \n",
    "    def train(self, done):\n",
    "        if len(self.memory) < memory_min:\n",
    "            return\n",
    "        # 要记录数据用以训练网络\n",
    "        x_train = []\n",
    "        y_train = []\n",
    "        # part1\n",
    "        batch = random.sample(self.memory, batchsize)\n",
    "        states1 = np.array([sample[0] for sample in batch])\n",
    "        QTable1 = self.prediction_model.predict(states1)\n",
    "        # part2\n",
    "        states2 = np.array([sample[3] for sample in batch])\n",
    "        QTable2 = self.target_model.predict(states2)\n",
    "        for index, (current_state, action, reward, next_state, done) in enumerate(batch):\n",
    "            if not done:\n",
    "                Qmax = np.max(QTable2[index])\n",
    "                new_q = reward + gama * Qmax\n",
    "            else:\n",
    "                new_q = reward\n",
    "            QTable1[index][action] = new_q     \n",
    "            x_train.append(current_state)\n",
    "            y_train.append(QTable1[index])\n",
    "        self.prediction_model.fit(np.array(x_train), np.array(y_train), batch_size=batchsize, verbose = 0)\n",
    "        # part3\n",
    "        if done:\n",
    "            self.timer += 1\n",
    "        if self.timer >= update_timer:\n",
    "            self.target_model.set_weights(self.prediction_model.get_weights())\n",
    "            self.timer = 0\n",
    "myDQN = DQN()"
   ]
  },
  {
   "cell_type": "markdown",
   "metadata": {},
   "source": [
    "# Training"
   ]
  },
  {
   "cell_type": "code",
   "execution_count": 15,
   "metadata": {},
   "outputs": [
    {
     "name": "stdout",
     "output_type": "stream",
     "text": [
      "0\n",
      "50\n",
      "100\n",
      "150\n",
      "200\n",
      "250\n",
      "300\n",
      "350\n",
      "400\n",
      "450\n",
      "500\n",
      "550\n",
      "600\n",
      "650\n",
      "700\n",
      "750\n",
      "800\n",
      "850\n",
      "900\n",
      "950\n",
      "1000\n",
      "1050\n",
      "1100\n",
      "1150\n",
      "1200\n",
      "1250\n",
      "1300\n",
      "1350\n",
      "1400\n",
      "1450\n",
      "1500\n",
      "1550\n",
      "1600\n",
      "1650\n",
      "1700\n",
      "1750\n",
      "1800\n",
      "1850\n",
      "1900\n",
      "1950\n",
      "2000\n",
      "2050\n",
      "2100\n",
      "2150\n",
      "2200\n",
      "2250\n",
      "2300\n",
      "2350\n",
      "2400\n",
      "2450\n",
      "2500\n",
      "2550\n",
      "2600\n",
      "2650\n",
      "2700\n",
      "2750\n",
      "2800\n",
      "2850\n",
      "2900\n",
      "2950\n",
      "3000\n",
      "3050\n",
      "3100\n",
      "3150\n",
      "3200\n",
      "3250\n",
      "3300\n",
      "3350\n",
      "3400\n",
      "3450\n",
      "3500\n",
      "3550\n",
      "3600\n",
      "3650\n",
      "3700\n",
      "3750\n",
      "3800\n",
      "3850\n",
      "3900\n",
      "3950\n",
      "4000\n",
      "4050\n",
      "4100\n",
      "4150\n",
      "4200\n",
      "4250\n",
      "4300\n",
      "4350\n",
      "4400\n",
      "4450\n",
      "4500\n",
      "4550\n",
      "4600\n",
      "4650\n",
      "4700\n",
      "4750\n",
      "4800\n",
      "4850\n",
      "4900\n",
      "4950\n",
      "5000\n",
      "5050\n",
      "5100\n",
      "5150\n",
      "5200\n",
      "5250\n",
      "5300\n",
      "5350\n",
      "5400\n",
      "5450\n",
      "5500\n",
      "5550\n",
      "5600\n",
      "5650\n",
      "5700\n",
      "5750\n",
      "5800\n",
      "5850\n",
      "5900\n",
      "5950\n",
      "6000\n",
      "6050\n",
      "6100\n",
      "6150\n",
      "6200\n",
      "6250\n",
      "6300\n",
      "6350\n",
      "6400\n",
      "6450\n",
      "6500\n",
      "6550\n",
      "6600\n",
      "6650\n",
      "6700\n",
      "6750\n",
      "6800\n",
      "6850\n",
      "6900\n",
      "6950\n"
     ]
    }
   ],
   "source": [
    "ep_rewards_recorder = {'ep':[],'avg':[],'min':[],'max':[]}\n",
    "for episode in range(episodes):\n",
    "    ep_reward = 0;\n",
    "    step = 0;\n",
    "    current_state = env.reset()\n",
    "    done = False\n",
    "    while not done:\n",
    "        if np.random.random() > epsilon:\n",
    "            action = np.argmax(myDQN.get_from_QTable(current_state))\n",
    "        else:\n",
    "            action = np.random.randint(0, env.action_space.n)\n",
    "        next_state, reward, done, _ = env.step(action)\n",
    "        ep_reward += reward\n",
    "        \n",
    "        myDQN.memory.append((current_state, action, reward, next_state, done))\n",
    "        # print(\"len_memory:{}\".format(len(myDQN.memory))) \n",
    "        myDQN.train(done)\n",
    "        current_state = next_state\n",
    "        step += 1\n",
    "    ep_rewards.append(ep_reward)\n",
    "    if episode == 0:\n",
    "        ep_rewards_recorder['ep'].append(episode)\n",
    "        ep_rewards_recorder['avg'].append(-200)\n",
    "        ep_rewards_recorder['min'].append(-200)\n",
    "        ep_rewards_recorder['max'].append(-200)\n",
    "        print(episode)\n",
    "    elif not episode % 50:\n",
    "        ep_rewards_recorder['ep'].append(episode)\n",
    "        ep_rewards_recorder['avg'].append(sum(ep_rewards[-50:])/50)\n",
    "        ep_rewards_recorder['min'].append(min(ep_rewards[-50:]))\n",
    "        ep_rewards_recorder['max'].append(max(ep_rewards[-50:]))\n",
    "        print(episode)\n",
    "    if epsilon > epsilon_min:\n",
    "        epsilon -= epsilon_step"
   ]
  },
  {
   "cell_type": "markdown",
   "metadata": {},
   "source": [
    "# Plot"
   ]
  },
  {
   "cell_type": "code",
   "execution_count": 16,
   "metadata": {},
   "outputs": [
    {
     "data": {
      "text/plain": [
       "Text(0,0.5,'Rewards')"
      ]
     },
     "execution_count": 16,
     "metadata": {},
     "output_type": "execute_result"
    },
    {
     "data": {
      "image/png": "[encoded data removed]",
      "text/plain": [
       "<Figure size 432x288 with 1 Axes>"
      ]
     },
     "metadata": {
      "needs_background": "light"
     },
     "output_type": "display_data"
    }
   ],
   "source": [
    "plt.plot(ep_rewards_recorder['ep'], ep_rewards_recorder['avg'], label = 'avg')\n",
    "plt.plot(ep_rewards_recorder['ep'], ep_rewards_recorder['min'], label = 'min')\n",
    "plt.plot(ep_rewards_recorder['ep'], ep_rewards_recorder['max'], label = 'max')\n",
    "plt.legend(loc='upper left')\n",
    "plt.xlabel('Episodes')\n",
    "plt.ylabel('Rewards')"
   ]
  },
  {
   "cell_type": "markdown",
   "metadata": {},
   "source": [
    "# Rendering"
   ]
  },
  {
   "cell_type": "code",
   "execution_count": 17,
   "metadata": {},
   "outputs": [
    {
     "name": "stdout",
     "output_type": "stream",
     "text": [
      "use 153 steps to achieve the goal\n"
     ]
    }
   ],
   "source": [
    "done = False\n",
    "state = env.reset()\n",
    "step = 0\n",
    "while not done:\n",
    "    step += 1\n",
    "    action = np.argmax(myDQN.get_from_QTable(state))\n",
    "    next_state, _, done, _ = env.step(action)\n",
    "    state = next_state\n",
    "    env.render()\n",
    "env.close()\n",
    "print(\"use {} steps to achieve the goal\".format(step))"
   ]
  },
  {
   "cell_type": "code",
   "execution_count": null,
   "metadata": {},
   "outputs": [],
   "source": []
  }
 ],
 "metadata": {
  "kernelspec": {
   "display_name": "Python [conda env:Anaconda3]",
   "language": "python",
   "name": "conda-env-Anaconda3-py"
  },
  "language_info": {
   "codemirror_mode": {
    "name": "ipython",
    "version": 3
   },
   "file_extension": ".py",
   "mimetype": "text/x-python",
   "name": "python",
   "nbconvert_exporter": "python",
   "pygments_lexer": "ipython3",
   "version": "3.5.6"
  },
  "toc": {
   "base_numbering": 1,
   "nav_menu": {},
   "number_sections": true,
   "sideBar": true,
   "skip_h1_title": false,
   "title_cell": "Table of Contents",
   "title_sidebar": "Contents",
   "toc_cell": false,
   "toc_position": {},
   "toc_section_display": true,
   "toc_window_display": false
  },
  "varInspector": {
   "cols": {
    "lenName": 16,
    "lenType": 16,
    "lenVar": 40
   },
   "kernels_config": {
    "python": {
     "delete_cmd_postfix": "",
     "delete_cmd_prefix": "del ",
     "library": "var_list.py",
     "varRefreshCmd": "print(var_dic_list())"
    },
    "r": {
     "delete_cmd_postfix": ") ",
     "delete_cmd_prefix": "rm(",
     "library": "var_list.r",
     "varRefreshCmd": "cat(var_dic_list()) "
    }
   },
   "types_to_exclude": [
    "module",
    "function",
    "builtin_function_or_method",
    "instance",
    "_Feature"
   ],
   "window_display": false
  }
 },
 "nbformat": 4,
 "nbformat_minor": 2
}
